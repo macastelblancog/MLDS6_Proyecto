{
 "cells": [
  {
   "cell_type": "code",
   "execution_count": 2,
   "metadata": {},
   "outputs": [
    {
     "name": "stdout",
     "output_type": "stream",
     "text": [
      "Requirement already satisfied: gensim in c:\\users\\sebastian valdes\\appdata\\roaming\\python\\python38\\site-packages (4.3.2)\n",
      "Requirement already satisfied: numpy>=1.18.5 in c:\\users\\sebastian valdes\\anaconda3\\lib\\site-packages (from gensim) (1.20.1)\n",
      "Requirement already satisfied: smart-open>=1.8.1 in c:\\users\\sebastian valdes\\anaconda3\\lib\\site-packages (from gensim) (6.4.0)\n",
      "Requirement already satisfied: scipy>=1.7.0 in c:\\users\\sebastian valdes\\anaconda3\\lib\\site-packages (from gensim) (1.10.1)\n"
     ]
    }
   ],
   "source": [
    "!pip install gensim"
   ]
  },
  {
   "cell_type": "code",
   "execution_count": 3,
   "metadata": {},
   "outputs": [],
   "source": [
    "from gensim.models.doc2vec import Doc2Vec\n",
    "from gensim.models.doc2vec import TaggedDocument"
   ]
  },
  {
   "cell_type": "code",
   "execution_count": 4,
   "metadata": {},
   "outputs": [],
   "source": [
    "import sys\n",
    "import path\n",
    "import os\n",
    "\n",
    "directory = path.Path(os.getcwd()).abspath().dirname()\n",
    "sys.path.append(directory.parent)"
   ]
  },
  {
   "cell_type": "code",
   "execution_count": 6,
   "metadata": {},
   "outputs": [
    {
     "data": {
      "text/html": [
       "<div>\n",
       "<style scoped>\n",
       "    .dataframe tbody tr th:only-of-type {\n",
       "        vertical-align: middle;\n",
       "    }\n",
       "\n",
       "    .dataframe tbody tr th {\n",
       "        vertical-align: top;\n",
       "    }\n",
       "\n",
       "    .dataframe thead th {\n",
       "        text-align: right;\n",
       "    }\n",
       "</style>\n",
       "<table border=\"1\" class=\"dataframe\">\n",
       "  <thead>\n",
       "    <tr style=\"text-align: right;\">\n",
       "      <th></th>\n",
       "      <th>article_link</th>\n",
       "      <th>headline</th>\n",
       "      <th>is_sarcastic</th>\n",
       "      <th>clean_text</th>\n",
       "    </tr>\n",
       "  </thead>\n",
       "  <tbody>\n",
       "    <tr>\n",
       "      <th>0</th>\n",
       "      <td>https://www.huffingtonpost.com/entry/versace-b...</td>\n",
       "      <td>former versace store clerk sues over secret 'b...</td>\n",
       "      <td>0</td>\n",
       "      <td>versace store clerk sue secret black code mino...</td>\n",
       "    </tr>\n",
       "    <tr>\n",
       "      <th>1</th>\n",
       "      <td>https://www.huffingtonpost.com/entry/roseanne-...</td>\n",
       "      <td>the 'roseanne' revival catches up to our thorn...</td>\n",
       "      <td>0</td>\n",
       "      <td>roseanne revival catch thorny political mood w...</td>\n",
       "    </tr>\n",
       "    <tr>\n",
       "      <th>2</th>\n",
       "      <td>https://local.theonion.com/mom-starting-to-fea...</td>\n",
       "      <td>mom starting to fear son's web series closest ...</td>\n",
       "      <td>1</td>\n",
       "      <td>mom start fear son web series close thing gran...</td>\n",
       "    </tr>\n",
       "    <tr>\n",
       "      <th>3</th>\n",
       "      <td>https://politics.theonion.com/boehner-just-wan...</td>\n",
       "      <td>boehner just wants wife to listen, not come up...</td>\n",
       "      <td>1</td>\n",
       "      <td>boehner want wife listen come alternative debt...</td>\n",
       "    </tr>\n",
       "    <tr>\n",
       "      <th>4</th>\n",
       "      <td>https://www.huffingtonpost.com/entry/jk-rowlin...</td>\n",
       "      <td>j.k. rowling wishes snape happy birthday in th...</td>\n",
       "      <td>0</td>\n",
       "      <td>rowling wish snape happy birthday magical way</td>\n",
       "    </tr>\n",
       "    <tr>\n",
       "      <th>...</th>\n",
       "      <td>...</td>\n",
       "      <td>...</td>\n",
       "      <td>...</td>\n",
       "      <td>...</td>\n",
       "    </tr>\n",
       "    <tr>\n",
       "      <th>26704</th>\n",
       "      <td>https://www.huffingtonpost.com/entry/american-...</td>\n",
       "      <td>american politics in moral free-fall</td>\n",
       "      <td>0</td>\n",
       "      <td>american politic moral free fall</td>\n",
       "    </tr>\n",
       "    <tr>\n",
       "      <th>26705</th>\n",
       "      <td>https://www.huffingtonpost.com/entry/americas-...</td>\n",
       "      <td>america's best 20 hikes</td>\n",
       "      <td>0</td>\n",
       "      <td>america good hike</td>\n",
       "    </tr>\n",
       "    <tr>\n",
       "      <th>26706</th>\n",
       "      <td>https://www.huffingtonpost.com/entry/reparatio...</td>\n",
       "      <td>reparations and obama</td>\n",
       "      <td>0</td>\n",
       "      <td>reparation obama</td>\n",
       "    </tr>\n",
       "    <tr>\n",
       "      <th>26707</th>\n",
       "      <td>https://www.huffingtonpost.com/entry/israeli-b...</td>\n",
       "      <td>israeli ban targeting boycott supporters raise...</td>\n",
       "      <td>0</td>\n",
       "      <td>israeli ban target boycott supporter raise ala...</td>\n",
       "    </tr>\n",
       "    <tr>\n",
       "      <th>26708</th>\n",
       "      <td>https://www.huffingtonpost.com/entry/gourmet-g...</td>\n",
       "      <td>gourmet gifts for the foodie 2014</td>\n",
       "      <td>0</td>\n",
       "      <td>gourmet gift foodie 2014</td>\n",
       "    </tr>\n",
       "  </tbody>\n",
       "</table>\n",
       "<p>26709 rows × 4 columns</p>\n",
       "</div>"
      ],
      "text/plain": [
       "                                            article_link  \\\n",
       "0      https://www.huffingtonpost.com/entry/versace-b...   \n",
       "1      https://www.huffingtonpost.com/entry/roseanne-...   \n",
       "2      https://local.theonion.com/mom-starting-to-fea...   \n",
       "3      https://politics.theonion.com/boehner-just-wan...   \n",
       "4      https://www.huffingtonpost.com/entry/jk-rowlin...   \n",
       "...                                                  ...   \n",
       "26704  https://www.huffingtonpost.com/entry/american-...   \n",
       "26705  https://www.huffingtonpost.com/entry/americas-...   \n",
       "26706  https://www.huffingtonpost.com/entry/reparatio...   \n",
       "26707  https://www.huffingtonpost.com/entry/israeli-b...   \n",
       "26708  https://www.huffingtonpost.com/entry/gourmet-g...   \n",
       "\n",
       "                                                headline  is_sarcastic  \\\n",
       "0      former versace store clerk sues over secret 'b...             0   \n",
       "1      the 'roseanne' revival catches up to our thorn...             0   \n",
       "2      mom starting to fear son's web series closest ...             1   \n",
       "3      boehner just wants wife to listen, not come up...             1   \n",
       "4      j.k. rowling wishes snape happy birthday in th...             0   \n",
       "...                                                  ...           ...   \n",
       "26704               american politics in moral free-fall             0   \n",
       "26705                            america's best 20 hikes             0   \n",
       "26706                              reparations and obama             0   \n",
       "26707  israeli ban targeting boycott supporters raise...             0   \n",
       "26708                  gourmet gifts for the foodie 2014             0   \n",
       "\n",
       "                                              clean_text  \n",
       "0      versace store clerk sue secret black code mino...  \n",
       "1      roseanne revival catch thorny political mood w...  \n",
       "2      mom start fear son web series close thing gran...  \n",
       "3      boehner want wife listen come alternative debt...  \n",
       "4          rowling wish snape happy birthday magical way  \n",
       "...                                                  ...  \n",
       "26704                   american politic moral free fall  \n",
       "26705                                  america good hike  \n",
       "26706                                   reparation obama  \n",
       "26707  israeli ban target boycott supporter raise ala...  \n",
       "26708                           gourmet gift foodie 2014  \n",
       "\n",
       "[26709 rows x 4 columns]"
      ]
     },
     "execution_count": 6,
     "metadata": {},
     "output_type": "execute_result"
    }
   ],
   "source": [
    "from src.bazinga.preprocessing import *\n",
    "\n",
    "clean_data = load_data('Clean_Headlines.json')\n",
    "clean_data"
   ]
  },
  {
   "cell_type": "code",
   "execution_count": 7,
   "metadata": {},
   "outputs": [],
   "source": [
    "X=clean_data[\"clean_text\"].values"
   ]
  },
  {
   "cell_type": "code",
   "execution_count": 8,
   "metadata": {},
   "outputs": [],
   "source": [
    "tokens = list(map(lambda doc: doc.split(), X))"
   ]
  },
  {
   "cell_type": "code",
   "execution_count": 9,
   "metadata": {},
   "outputs": [],
   "source": [
    "tagged_corpus = [\n",
    "        TaggedDocument(doc, [i])\n",
    "        for i, doc in enumerate(tokens)\n",
    "        ]"
   ]
  },
  {
   "cell_type": "code",
   "execution_count": 10,
   "metadata": {},
   "outputs": [],
   "source": [
    "model = Doc2Vec(\n",
    "        documents = tagged_corpus,\n",
    "        vector_size = 100,\n",
    "        epochs = 20,\n",
    "        workers = -1\n",
    "        )"
   ]
  },
  {
   "cell_type": "code",
   "execution_count": 11,
   "metadata": {},
   "outputs": [],
   "source": [
    "vects = []\n",
    "for i in range(len(tagged_corpus)):\n",
    "    vect = model.infer_vector(tagged_corpus[i].words)\n",
    "    vects.append(vect)\n",
    "    "
   ]
  },
  {
   "cell_type": "code",
   "execution_count": 12,
   "metadata": {},
   "outputs": [],
   "source": [
    "import numpy as np"
   ]
  },
  {
   "cell_type": "code",
   "execution_count": 13,
   "metadata": {},
   "outputs": [],
   "source": [
    "vects_arr=np.array(vects)"
   ]
  },
  {
   "cell_type": "code",
   "execution_count": 14,
   "metadata": {},
   "outputs": [
    {
     "data": {
      "text/plain": [
       "array([-3.4306028e-03,  2.9768347e-05,  7.7247736e-04, -1.2560210e-03,\n",
       "        5.9209467e-04, -3.0756968e-03,  2.6458150e-03, -1.8431926e-03,\n",
       "       -3.2359604e-03, -2.2090313e-03,  4.5847143e-03, -4.2872727e-03,\n",
       "       -4.7893710e-03,  3.5997152e-03,  2.7570408e-03,  4.4633835e-03,\n",
       "        3.5481148e-03, -1.2540353e-03,  3.4087193e-03, -2.2540840e-03,\n",
       "        3.8493895e-03, -3.4346157e-03,  4.2297686e-03,  1.2035847e-03,\n",
       "        2.4636923e-03, -3.6217046e-03, -1.0318240e-03,  3.3577657e-03,\n",
       "        3.3749097e-03,  3.7823939e-03,  1.7541468e-03,  2.7968753e-03,\n",
       "       -1.8489248e-03, -2.0691282e-03, -2.8221654e-03, -9.3816219e-05,\n",
       "        3.3312715e-03, -1.2751860e-03,  8.3463371e-04,  6.5241754e-04,\n",
       "        3.9148736e-03,  3.4846545e-03, -1.2031430e-03, -1.1333504e-03,\n",
       "       -2.3634576e-03, -2.5206131e-03, -7.0512685e-04,  2.5641411e-03,\n",
       "       -4.7672568e-03, -1.9183331e-03,  1.3495017e-03,  1.3044662e-03,\n",
       "       -4.0696752e-03, -2.7082593e-03, -2.3045656e-03,  1.9868696e-03,\n",
       "        4.0586647e-03, -2.5594193e-03,  3.5871966e-03, -2.8149423e-03,\n",
       "        4.8413738e-03, -2.4077676e-03, -1.5480757e-03, -2.1691727e-03,\n",
       "       -4.0448289e-03,  2.4418158e-03,  3.8211071e-03, -1.6766253e-03,\n",
       "        1.7402464e-03,  3.9245649e-03, -4.7652586e-03, -1.3224691e-03,\n",
       "       -8.5727958e-04, -4.1672261e-03,  1.6924179e-03, -2.1206634e-03,\n",
       "       -4.1797231e-03,  1.9860531e-03,  4.6909868e-04,  4.1545136e-03,\n",
       "        1.3405663e-03, -3.9849225e-03, -2.5657809e-03,  3.6221219e-03,\n",
       "        1.2378251e-03, -3.7187550e-03,  2.0720172e-03,  3.4540528e-03,\n",
       "       -4.5172274e-04, -1.5912578e-03,  2.1210217e-03, -1.3190848e-03,\n",
       "       -3.4444798e-03, -3.8706127e-03, -1.4505180e-03, -2.8242490e-03,\n",
       "       -3.0668157e-03, -4.5535914e-03,  1.2594849e-03,  1.8200087e-03],\n",
       "      dtype=float32)"
      ]
     },
     "execution_count": 14,
     "metadata": {},
     "output_type": "execute_result"
    }
   ],
   "source": [
    "vects_arr[0]"
   ]
  },
  {
   "cell_type": "code",
   "execution_count": 16,
   "metadata": {},
   "outputs": [],
   "source": [
    "df_vect = pd.DataFrame(vects_arr)\n",
    "df_vect[\"y\"] = clean_data[\"is_sarcastic\"].values"
   ]
  },
  {
   "cell_type": "code",
   "execution_count": 17,
   "metadata": {},
   "outputs": [],
   "source": [
    "import matplotlib.pyplot as plt\n",
    "import plotly.express as px\n",
    "import seaborn as sns\n"
   ]
  },
  {
   "cell_type": "code",
   "execution_count": 18,
   "metadata": {},
   "outputs": [
    {
     "data": {
      "image/png": "[encoded data removed]",
      "text/plain": [
       "<Figure size 1440x1440 with 1 Axes>"
      ]
     },
     "metadata": {
      "needs_background": "light"
     },
     "output_type": "display_data"
    }
   ],
   "source": [
    "correlation = df_vect.corr()\n",
    "plt.figure(figsize=(20, 20))\n",
    "plt.matshow(correlation, aspect=\"auto\", cmap=\"viridis\", fignum=1)\n",
    "plt.title(\"Correlation matrix\")\n",
    "plt.axis(\"off\")\n",
    "plt.show()"
   ]
  },
  {
   "cell_type": "code",
   "execution_count": 19,
   "metadata": {},
   "outputs": [
    {
     "name": "stdout",
     "output_type": "stream",
     "text": [
      "Note: you may need to restart the kernel to use updated packages.\n"
     ]
    },
    {
     "name": "stderr",
     "output_type": "stream",
     "text": [
      "\"c:\\Users\\SEBASTIAN\" no se reconoce como un comando interno o externo,\n",
      "programa o archivo por lotes ejecutable.\n"
     ]
    },
    {
     "name": "stdout",
     "output_type": "stream",
     "text": [
      "Note: you may need to restart the kernel to use updated packages.\n"
     ]
    },
    {
     "name": "stderr",
     "output_type": "stream",
     "text": [
      "\"c:\\Users\\SEBASTIAN\" no se reconoce como un comando interno o externo,\n",
      "programa o archivo por lotes ejecutable.\n"
     ]
    }
   ],
   "source": [
    "\n",
    "%pip install unidecode\n",
    "%pip install plotly\n",
    "\n",
    "from unidecode import unidecode\n",
    "from wordcloud import WordCloud\n",
    "import spacy\n",
    "from sklearn.feature_extraction.text import CountVectorizer\n",
    "from typing import Iterable\n",
    "\n"
   ]
  },
  {
   "cell_type": "code",
   "execution_count": 20,
   "metadata": {},
   "outputs": [],
   "source": [
    "def get_bow(corpus: Iterable):\n",
    "    vect = CountVectorizer(max_features=1000).fit(corpus)\n",
    "    X = vect.transform(corpus).toarray()\n",
    "    return X, vect\n",
    "\n",
    "\n",
    "def get_wordcloud(doc_array: np.ndarray, model: CountVectorizer):\n",
    "    vocab = model.get_feature_names_out()\n",
    "    count_dict = dict(zip(vocab, doc_array.sum(axis=0)))\n",
    "    wc = WordCloud(width=800, height=400, background_color=\"white\")\n",
    "    wc.generate_from_frequencies(count_dict)\n",
    "    return wc\n",
    "\n",
    "\n",
    "def plot_wordcloud(doc_array, model) -> None:\n",
    "    \"\"\"Plot wordcloud from bag of words matrix\"\"\"\n",
    "    wc = get_wordcloud(doc_array, model)\n",
    "    _fig, ax = plt.subplots()\n",
    "    ax.imshow(wc)\n",
    "    ax.axis(\"off\")"
   ]
  },
  {
   "cell_type": "code",
   "execution_count": 22,
   "metadata": {},
   "outputs": [],
   "source": [
    "X=vects_arr\n",
    "y=clean_data[\"is_sarcastic\"].values"
   ]
  },
  {
   "cell_type": "code",
   "execution_count": 23,
   "metadata": {},
   "outputs": [],
   "source": [
    "from sklearn.model_selection import train_test_split"
   ]
  },
  {
   "cell_type": "code",
   "execution_count": 24,
   "metadata": {},
   "outputs": [],
   "source": [
    "X_train, X_test, y_train, y_test=train_test_split(X,y,test_size=0.3,stratify=y)"
   ]
  },
  {
   "cell_type": "code",
   "execution_count": 25,
   "metadata": {},
   "outputs": [
    {
     "name": "stdout",
     "output_type": "stream",
     "text": [
      "(18696, 100) (8013, 100) (18696,) (8013,)\n"
     ]
    }
   ],
   "source": [
    "print(X_train.shape, X_test.shape, y_train.shape, y_test.shape)"
   ]
  },
  {
   "cell_type": "code",
   "execution_count": 26,
   "metadata": {},
   "outputs": [
    {
     "name": "stdout",
     "output_type": "stream",
     "text": [
      "0    10489\n",
      "1     8207\n",
      "dtype: int64\n",
      "0    4496\n",
      "1    3517\n",
      "dtype: int64\n"
     ]
    }
   ],
   "source": [
    "print(pd.Series(y_train).value_counts())\n",
    "print(pd.Series(y_test).value_counts())"
   ]
  },
  {
   "cell_type": "code",
   "execution_count": 27,
   "metadata": {},
   "outputs": [
    {
     "name": "stdout",
     "output_type": "stream",
     "text": [
      "La precisión obtenida por el modelo Dummy para la partición de prueba es de: 0.5026. Esta metrica se usará como linea base para comparar el desempeño obtenido en los demás modelos que se desarrollarán para este proyecto\n"
     ]
    }
   ],
   "source": [
    "from sklearn.dummy import DummyClassifier\n",
    "from sklearn.metrics import accuracy_score\n",
    "modelo_dummy = DummyClassifier(strategy=\"stratified\")\n",
    "modelo_dummy.fit(X, y)\n",
    "y_pred_dummy=modelo_dummy.predict(X_test)\n",
    "score_dummy=accuracy_score(y_test,y_pred_dummy)\n",
    "print(f\"La precisión obtenida por el modelo Dummy para la partición de prueba es de: {score_dummy:.4f}. Esta metrica se usará como linea base para comparar el desempeño obtenido en los demás modelos que se desarrollarán para este proyecto\")\n"
   ]
  }
 ],
 "metadata": {
  "kernelspec": {
   "display_name": "Python 3",
   "language": "python",
   "name": "python3"
  },
  "language_info": {
   "codemirror_mode": {
    "name": "ipython",
    "version": 3
   },
   "file_extension": ".py",
   "mimetype": "text/x-python",
   "name": "python",
   "nbconvert_exporter": "python",
   "pygments_lexer": "ipython3",
   "version": "3.8.8"
  }
 },
 "nbformat": 4,
 "nbformat_minor": 4
}
