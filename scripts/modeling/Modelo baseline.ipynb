{
 "cells": [
  {
   "cell_type": "code",
   "execution_count": 1,
   "metadata": {},
   "outputs": [
    {
     "name": "stderr",
     "output_type": "stream",
     "text": [
      "C:\\Users\\User\\AppData\\Local\\Temp\\ipykernel_32628\\3584135708.py:9: DeprecationWarning: .abspath is deprecated; use absolute\n",
      "  directory = path.Path(os.getcwd()).abspath().dirname()\n"
     ]
    }
   ],
   "source": [
    "import sys\n",
    "import path\n",
    "import os\n",
    "\n",
    "from sklearn.model_selection import train_test_split\n",
    "from sklearn.dummy import DummyClassifier\n",
    "from sklearn.metrics import accuracy_score\n",
    "\n",
    "directory = path.Path(os.getcwd()).abspath().dirname()\n",
    "sys.path.append(directory.parent)"
   ]
  },
  {
   "cell_type": "code",
   "execution_count": 2,
   "metadata": {},
   "outputs": [],
   "source": [
    "from src.bazinga.preprocessing import *"
   ]
  },
  {
   "cell_type": "code",
   "execution_count": 3,
   "metadata": {},
   "outputs": [
    {
     "data": {
      "text/html": [
       "<div>\n",
       "<style scoped>\n",
       "    .dataframe tbody tr th:only-of-type {\n",
       "        vertical-align: middle;\n",
       "    }\n",
       "\n",
       "    .dataframe tbody tr th {\n",
       "        vertical-align: top;\n",
       "    }\n",
       "\n",
       "    .dataframe thead th {\n",
       "        text-align: right;\n",
       "    }\n",
       "</style>\n",
       "<table border=\"1\" class=\"dataframe\">\n",
       "  <thead>\n",
       "    <tr style=\"text-align: right;\">\n",
       "      <th></th>\n",
       "      <th>article_link</th>\n",
       "      <th>headline</th>\n",
       "      <th>is_sarcastic</th>\n",
       "      <th>clean_text</th>\n",
       "    </tr>\n",
       "  </thead>\n",
       "  <tbody>\n",
       "    <tr>\n",
       "      <th>0</th>\n",
       "      <td>https://www.huffingtonpost.com/entry/versace-b...</td>\n",
       "      <td>former versace store clerk sues over secret 'b...</td>\n",
       "      <td>0</td>\n",
       "      <td>versace store clerk sue secret black code mino...</td>\n",
       "    </tr>\n",
       "    <tr>\n",
       "      <th>1</th>\n",
       "      <td>https://www.huffingtonpost.com/entry/roseanne-...</td>\n",
       "      <td>the 'roseanne' revival catches up to our thorn...</td>\n",
       "      <td>0</td>\n",
       "      <td>roseanne revival catch thorny political mood w...</td>\n",
       "    </tr>\n",
       "    <tr>\n",
       "      <th>2</th>\n",
       "      <td>https://local.theonion.com/mom-starting-to-fea...</td>\n",
       "      <td>mom starting to fear son's web series closest ...</td>\n",
       "      <td>1</td>\n",
       "      <td>mom start fear son web series close thing gran...</td>\n",
       "    </tr>\n",
       "    <tr>\n",
       "      <th>3</th>\n",
       "      <td>https://politics.theonion.com/boehner-just-wan...</td>\n",
       "      <td>boehner just wants wife to listen, not come up...</td>\n",
       "      <td>1</td>\n",
       "      <td>boehner want wife listen come alternative debt...</td>\n",
       "    </tr>\n",
       "    <tr>\n",
       "      <th>4</th>\n",
       "      <td>https://www.huffingtonpost.com/entry/jk-rowlin...</td>\n",
       "      <td>j.k. rowling wishes snape happy birthday in th...</td>\n",
       "      <td>0</td>\n",
       "      <td>rowling wish snape happy birthday magical way</td>\n",
       "    </tr>\n",
       "    <tr>\n",
       "      <th>...</th>\n",
       "      <td>...</td>\n",
       "      <td>...</td>\n",
       "      <td>...</td>\n",
       "      <td>...</td>\n",
       "    </tr>\n",
       "    <tr>\n",
       "      <th>26704</th>\n",
       "      <td>https://www.huffingtonpost.com/entry/american-...</td>\n",
       "      <td>american politics in moral free-fall</td>\n",
       "      <td>0</td>\n",
       "      <td>american politic moral free fall</td>\n",
       "    </tr>\n",
       "    <tr>\n",
       "      <th>26705</th>\n",
       "      <td>https://www.huffingtonpost.com/entry/americas-...</td>\n",
       "      <td>america's best 20 hikes</td>\n",
       "      <td>0</td>\n",
       "      <td>america good hike</td>\n",
       "    </tr>\n",
       "    <tr>\n",
       "      <th>26706</th>\n",
       "      <td>https://www.huffingtonpost.com/entry/reparatio...</td>\n",
       "      <td>reparations and obama</td>\n",
       "      <td>0</td>\n",
       "      <td>reparation obama</td>\n",
       "    </tr>\n",
       "    <tr>\n",
       "      <th>26707</th>\n",
       "      <td>https://www.huffingtonpost.com/entry/israeli-b...</td>\n",
       "      <td>israeli ban targeting boycott supporters raise...</td>\n",
       "      <td>0</td>\n",
       "      <td>israeli ban target boycott supporter raise ala...</td>\n",
       "    </tr>\n",
       "    <tr>\n",
       "      <th>26708</th>\n",
       "      <td>https://www.huffingtonpost.com/entry/gourmet-g...</td>\n",
       "      <td>gourmet gifts for the foodie 2014</td>\n",
       "      <td>0</td>\n",
       "      <td>gourmet gift foodie 2014</td>\n",
       "    </tr>\n",
       "  </tbody>\n",
       "</table>\n",
       "<p>26709 rows × 4 columns</p>\n",
       "</div>"
      ],
      "text/plain": [
       "                                            article_link  \\\n",
       "0      https://www.huffingtonpost.com/entry/versace-b...   \n",
       "1      https://www.huffingtonpost.com/entry/roseanne-...   \n",
       "2      https://local.theonion.com/mom-starting-to-fea...   \n",
       "3      https://politics.theonion.com/boehner-just-wan...   \n",
       "4      https://www.huffingtonpost.com/entry/jk-rowlin...   \n",
       "...                                                  ...   \n",
       "26704  https://www.huffingtonpost.com/entry/american-...   \n",
       "26705  https://www.huffingtonpost.com/entry/americas-...   \n",
       "26706  https://www.huffingtonpost.com/entry/reparatio...   \n",
       "26707  https://www.huffingtonpost.com/entry/israeli-b...   \n",
       "26708  https://www.huffingtonpost.com/entry/gourmet-g...   \n",
       "\n",
       "                                                headline  is_sarcastic  \\\n",
       "0      former versace store clerk sues over secret 'b...             0   \n",
       "1      the 'roseanne' revival catches up to our thorn...             0   \n",
       "2      mom starting to fear son's web series closest ...             1   \n",
       "3      boehner just wants wife to listen, not come up...             1   \n",
       "4      j.k. rowling wishes snape happy birthday in th...             0   \n",
       "...                                                  ...           ...   \n",
       "26704               american politics in moral free-fall             0   \n",
       "26705                            america's best 20 hikes             0   \n",
       "26706                              reparations and obama             0   \n",
       "26707  israeli ban targeting boycott supporters raise...             0   \n",
       "26708                  gourmet gifts for the foodie 2014             0   \n",
       "\n",
       "                                              clean_text  \n",
       "0      versace store clerk sue secret black code mino...  \n",
       "1      roseanne revival catch thorny political mood w...  \n",
       "2      mom start fear son web series close thing gran...  \n",
       "3      boehner want wife listen come alternative debt...  \n",
       "4          rowling wish snape happy birthday magical way  \n",
       "...                                                  ...  \n",
       "26704                   american politic moral free fall  \n",
       "26705                                  america good hike  \n",
       "26706                                   reparation obama  \n",
       "26707  israeli ban target boycott supporter raise ala...  \n",
       "26708                           gourmet gift foodie 2014  \n",
       "\n",
       "[26709 rows x 4 columns]"
      ]
     },
     "execution_count": 3,
     "metadata": {},
     "output_type": "execute_result"
    }
   ],
   "source": [
    "clean_data = load_data('Clean_Headlines.json')\n",
    "clean_data"
   ]
  },
  {
   "cell_type": "code",
   "execution_count": 65,
   "metadata": {},
   "outputs": [
    {
     "data": {
      "text/plain": [
       "(26709, 100)"
      ]
     },
     "metadata": {},
     "output_type": "display_data"
    }
   ],
   "source": [
    "X = doc2Vec_embedding(corpus_df = clean_data,column = 'clean_text')\n",
    "X = np.stack(X)\n",
    "display(X.shape)\n",
    "y = clean_data.is_sarcastic"
   ]
  },
  {
   "cell_type": "code",
   "execution_count": 66,
   "metadata": {},
   "outputs": [],
   "source": [
    "X_train, X_test, y_train, y_test = train_test_split(X,y,test_size=0.3,stratify = y)"
   ]
  },
  {
   "cell_type": "code",
   "execution_count": 58,
   "metadata": {},
   "outputs": [
    {
     "name": "stdout",
     "output_type": "stream",
     "text": [
      "(18696, 100) (8013, 100) (18696,) (8013,)\n"
     ]
    }
   ],
   "source": [
    "print(X_train.shape, X_test.shape, y_train.shape, y_test.shape)"
   ]
  },
  {
   "cell_type": "code",
   "execution_count": 67,
   "metadata": {},
   "outputs": [],
   "source": [
    "all_X = {'total' : X, 'train' : X_train, 'test' : X_test}\n",
    "all_y = {'total' : y, 'train' : y_train, 'test' : y_test}"
   ]
  },
  {
   "cell_type": "code",
   "execution_count": 59,
   "metadata": {},
   "outputs": [
    {
     "name": "stdout",
     "output_type": "stream",
     "text": [
      "0    10489\n",
      "1     8207\n",
      "Name: count, dtype: int64\n",
      "0    4496\n",
      "1    3517\n",
      "Name: count, dtype: int64\n"
     ]
    }
   ],
   "source": [
    "print(pd.Series(y_train).value_counts())\n",
    "print(pd.Series(y_test).value_counts())"
   ]
  },
  {
   "cell_type": "code",
   "execution_count": 60,
   "metadata": {},
   "outputs": [
    {
     "name": "stdout",
     "output_type": "stream",
     "text": [
      "La precisión obtenida por el modelo Dummy para la partición de prueba es de: 0.5009. Esta metrica se usará como linea base para  comparar el desempeño obtenido en los demás modelos que se desarrollarán para este proyecto\n"
     ]
    }
   ],
   "source": [
    "modelo_dummy = DummyClassifier(strategy = \"stratified\")\n",
    "modelo_dummy.fit(X_train, y_train)\n",
    "y_pred_dummy = modelo_dummy.predict(X_test)\n",
    "score_dummy = accuracy_score(y_test,y_pred_dummy)\n",
    "print(f\"La precisión obtenida por el modelo Dummy para la partición de prueba es de: {score_dummy:.4f}. Esta metrica se usará como linea base para  comparar el desempeño obtenido en los demás modelos que se desarrollarán para este proyecto\")\n"
   ]
  },
  {
   "cell_type": "code",
   "execution_count": 27,
   "metadata": {},
   "outputs": [],
   "source": [
    "# Esto es para construir los modelos\n",
    "from tensorflow import keras\n",
    "from keras.layers import Dense, Dropout, Input #, GRU, LSTM,Flatten, \n",
    "from keras.models import Sequential\n",
    "from keras.utils import plot_model\n",
    "\n",
    "# Esto es para entrenamientos\n",
    "from keras.callbacks import EarlyStopping\n",
    "from livelossplot import PlotLossesKeras\n",
    "\n",
    "# Esto es para evaluación\n",
    "from sklearn.metrics import confusion_matrix, classification_report\n",
    "import numpy as np\n",
    "# Graficos mmatrices\n",
    "import seaborn as sns\n",
    "import matplotlib.pyplot as plt"
   ]
  },
  {
   "cell_type": "code",
   "execution_count": null,
   "metadata": {},
   "outputs": [],
   "source": [
    "\n",
    "class sarcasm_classifier:\n",
    "    def __init__(self,X,Y\n",
    "                ,attributes = {\n",
    "                        'units': [32,16,8]\n",
    "                        ,'activation': ['relu','relu','relu']\n",
    "                        ,'dropout': [0.2,0.2,0.2]\n",
    "                }\n",
    "            ):\n",
    "\n",
    "        layers = [Input(shape = (X['train'].shape[1],), name = \"input\")]\n",
    "        for index in range(len(attributes['units'])):\n",
    "            layers.append(Dense(units = attributes['units'][index]\n",
    "                                , activation = attributes['activation'][index]\n",
    "                                , name = f\"hidden{index+1}\"\n",
    "                            )\n",
    "                        )\n",
    "            layers.append(Dropout(attributes['dropout'][index]))\n",
    "        layers.append(Dense(units = 1, activation = \"sigmoid\", name = \"output\"))\n",
    "\n",
    "        self.model = Sequential(\n",
    "            layers = layers\n",
    "        )\n",
    "        #plot_model(self.model, show_shapes=True)\n",
    "        \n",
    "    def fit(self, X, Y\n",
    "            ,train_tag,validation_tag, epochs = 30, batch_size = 16\n",
    "            ,learning_rate = 1e-3\n",
    "        ):\n",
    "\n",
    "        self.model.compile(optimizer = keras.optimizers.Adam(learning_rate = learning_rate)\n",
    "                            , loss = keras.losses.BinaryCrossentropy()\n",
    "                            , metrics = ['accuracy']\n",
    "                        )#\n",
    "        \n",
    "        early_callback = EarlyStopping(monitor = \"val_loss\", patience = 25)\n",
    "\n",
    "        self.History = self.model.fit(X['train'],Y[train_tag]\n",
    "                                        , epochs = epochs, batch_size = batch_size\n",
    "                                        , validation_data = (X[validation_tag], Y[validation_tag])\n",
    "                                        , callbacks = [PlotLossesKeras(),  early_callback]\n",
    "                                    )\n",
    "        \n",
    "    def metrics_report(self,X,Y):\n",
    "        matrixes = {}\n",
    "        for label in X.keys():\n",
    "            y_pred = self.model.predict(X[label])\n",
    "            y_pred = np.argmax(y_pred,axis = 1)\n",
    "            conf_matrix = confusion_matrix(Y[label], y_pred\n",
    "                                            #, normalize='true'\n",
    "                                        )\n",
    "            conf_matrix = pd.DataFrame(conf_matrix \n",
    "                                    #,index = labels[movie], columns = labels[movie]\n",
    "                                    )\n",
    "            matrixes[label] = conf_matrix\n",
    "\n",
    "            fig, ax = plt.subplots(1,1, figsize = (20, 20))\n",
    "            _ = sns.heatmap(conf_matrix, annot = True\n",
    "                            , cmap = 'Blues', cbar = False\n",
    "                            , ax = ax\n",
    "                        )\n",
    "            fig.show()\n",
    "\n",
    "            report = classification_report(Y[label], y_pred\n",
    "                                        , output_dict = True\n",
    "                                        , zero_division = np.nan\n",
    "                                        )\n",
    "            report = pd.DataFrame(report).T\n",
    "            report = report.round(2)\n",
    "            print(f'{label}')\n",
    "            display(report) "
   ]
  },
  {
   "cell_type": "code",
   "execution_count": null,
   "metadata": {},
   "outputs": [
    {
     "name": "stdout",
     "output_type": "stream",
     "text": [
      "uwu\n"
     ]
    }
   ],
   "source": [
    "model1 = sarcasm_classifier(all_X,all_y)"
   ]
  },
  {
   "cell_type": "code",
   "execution_count": null,
   "metadata": {},
   "outputs": [
    {
     "data": {
      "image/png": "[encoded data removed]",
      "text/plain": [
       "<Figure size 1200x800 with 2 Axes>"
      ]
     },
     "metadata": {},
     "output_type": "display_data"
    },
    {
     "name": "stdout",
     "output_type": "stream",
     "text": [
      "accuracy\n",
      "\ttraining         \t (min:    0.561, max:    0.561, cur:    0.561)\n",
      "\tvalidation       \t (min:    0.561, max:    0.561, cur:    0.561)\n",
      "Loss\n",
      "\ttraining         \t (min:    0.686, max:    0.687, cur:    0.686)\n",
      "\tvalidation       \t (min:    0.686, max:    0.686, cur:    0.686)\n",
      "1169/1169 [==============================] - 2s 1ms/step - loss: 0.6857 - accuracy: 0.5610 - val_loss: 0.6857 - val_accuracy: 0.5611\n"
     ]
    }
   ],
   "source": [
    "model1.fit(all_X,all_y,'train','test', epochs = 100)"
   ]
  },
  {
   "cell_type": "code",
   "execution_count": null,
   "metadata": {},
   "outputs": [],
   "source": []
  }
 ],
 "metadata": {
  "kernelspec": {
   "display_name": "Python 3",
   "language": "python",
   "name": "python3"
  },
  "language_info": {
   "codemirror_mode": {
    "name": "ipython",
    "version": 3
   },
   "file_extension": ".py",
   "mimetype": "text/x-python",
   "name": "python",
   "nbconvert_exporter": "python",
   "pygments_lexer": "ipython3",
   "version": "3.11.4"
  }
 },
 "nbformat": 4,
 "nbformat_minor": 4
}
